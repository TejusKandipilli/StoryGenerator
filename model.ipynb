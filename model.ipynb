{
 "cells": [
  {
   "cell_type": "code",
   "execution_count": 1,
   "id": "b53de9a3",
   "metadata": {},
   "outputs": [],
   "source": [
    "from dotenv import load_dotenv\n",
    "import os\n",
    "\n",
    "load_dotenv()\n",
    "\n",
    "os.environ['GOOGLE_API_KEY'] = os.getenv('GOOGLE_API_KEY')\n"
   ]
  },
  {
   "cell_type": "code",
   "execution_count": 2,
   "id": "63d3348a",
   "metadata": {},
   "outputs": [],
   "source": [
    "from langchain.chat_models import init_chat_model\n",
    "\n",
    "llm = init_chat_model(\"gemini-2.5-flash\", model_provider=\"google_genai\")"
   ]
  },
  {
   "cell_type": "code",
   "execution_count": 3,
   "id": "c347ab30",
   "metadata": {},
   "outputs": [],
   "source": [
    "from typing_extensions import List, TypedDict\n",
    "\n",
    "\n",
    "class State(TypedDict):\n",
    "    story_so_far: str\n",
    "    user_input: str\n",
    "    answer: str\n",
    "\n"
   ]
  },
  {
   "cell_type": "code",
   "execution_count": 4,
   "id": "305a3670",
   "metadata": {},
   "outputs": [],
   "source": [
    "from langchain.prompts import ChatPromptTemplate\n",
    "\n",
    "story_prompt = ChatPromptTemplate.from_messages([\n",
    "    (\"system\",\n",
    "     \"\"\"You are a collaborative storyteller AI. \n",
    "     You and the user take turns writing a single paragraph of an ongoing story.\n",
    "     \n",
    "     Rules:\n",
    "     - Always continue from the last events in the story so far.\n",
    "     - Keep tone, style, and pacing consistent with earlier parts.\n",
    "     - Write only one paragraph per turn.\n",
    "     - End your paragraph in a way that invites the user to continue (e.g., suspense, open-ended action).\n",
    "     - Do NOT rewrite or summarize the user's part — just continue from it.\n",
    "     \"\"\"),\n",
    "    \n",
    "    (\"human\", \n",
    "     \"\"\"Story so far:\n",
    "{story_so_far}\n",
    "\n",
    "User's turn:\n",
    "{user_input}\n",
    "\n",
    "Now it's your turn to write the next paragraph of the story.\"\"\")\n",
    "])\n"
   ]
  },
  {
   "cell_type": "code",
   "execution_count": 10,
   "id": "20c33dd9",
   "metadata": {},
   "outputs": [],
   "source": [
    "from langchain.prompts import PromptTemplate\n",
    "\n",
    "story_so_far_prompt = PromptTemplate(\n",
    "    input_variables=[\"user_input\"],\n",
    "    template=(\n",
    "        \"You are a skilled storyteller across all genres.\\n\"\n",
    "        \"Based solely on the user's input, infer:\\n\"\n",
    "        \"1. The likely **genre** (fantasy, mystery, romance, sci-fi, horror, historical, comedy, etc.).\\n\"\n",
    "        \"2. The **setting** (place, time, atmosphere) suggested by the input.\\n\"\n",
    "        \"3. The **tone** (serious, whimsical, dark, hopeful, etc.).\\n\\n\"\n",
    "        \"Then write a vivid and immersive 'Story So Far' as the opening scene.\\n\"\n",
    "        \"Guidelines:\\n\"\n",
    "        \"- Keep it under 200 words.\\n\"\n",
    "        \"- Do not explicitly label the genre, setting, or tone — just show them through the prose.\\n\"\n",
    "        \"- Make the scene feel alive with sensory details and a hook.\\n\\n\"\n",
    "        \"User's input: {user_input}\\n\\n\"\n",
    "        \"Story so far:\"\n",
    "    )\n",
    ")\n"
   ]
  },
  {
   "cell_type": "code",
   "execution_count": 11,
   "id": "d3ad78c0",
   "metadata": {},
   "outputs": [],
   "source": [
    "def set_story(state: State):\n",
    "  story = story_so_far_prompt.invoke({\"user_input\":state['user_input']})\n",
    "  respone = llm.invoke(story)\n",
    "  return {\"story_so_far\":respone.content}"
   ]
  },
  {
   "cell_type": "code",
   "execution_count": null,
   "id": "64d65e1b",
   "metadata": {},
   "outputs": [],
   "source": [
    "def generate(state: State):\n",
    "    story = story_prompt.invoke({\"story_so_far\":state['story_so_far'],\"user_input\":state['user_input']})\n",
    "    response = llm.invoke(story)\n",
    "    return {\"answer\": response.content,\"story_so_far\":state['story_so_far']+\"\\n\"+state['user_input']+\"\\n\"+response.content}"
   ]
  },
  {
   "cell_type": "code",
   "execution_count": null,
   "id": "deab6665",
   "metadata": {},
   "outputs": [],
   "source": [
    "from langgraph.graph import START, StateGraph\n",
    "\n",
    "graph_builder = StateGraph(State)\n",
    "graph_builder.add_sequence([set_story, generate])\n",
    "graph_builder.add_edge(START, \"set_story\")\n",
    "graph = graph_builder.compile()\n"
   ]
  },
  {
   "cell_type": "code",
   "execution_count": 12,
   "id": "520ebba3",
   "metadata": {},
   "outputs": [
    {
     "name": "stdout",
     "output_type": "stream",
     "text": [
      "\n",
      "--- AI Story Generator ---\n",
      "Type 'quit' to end the game.\n",
      "\n",
      "\n",
      "AI's opening:\n",
      "The air itself was a gritty reminder of the bombs, perpetually thick with dust and the faint tang of irradiated decay, making every breath a conscious effort. Scavenging for even a single can of nutrient paste meant risking encounters with the 'Shriekers' – mutated horrors that hunted by sound, their guttural cries echoing across the shattered ruins of what was once a sprawling city. Yet, the monsters were often less terrifying than the desperate eyes of another survivor, glimpsed from afar, knowing that any encounter would likely end in a brutal fight over meager scraps, or worse, a forced recruitment into a tyrannical settlement. It was a world where trust was a forgotten luxury, and every sunrise brought with it the same gnawing question: how much longer could one truly survive alone?\n",
      "\n",
      "AI's turn:\n",
      "Furiosa had heard the whispers of the fabled city of Elysium since she was a child, a sanctuary supposedly untouched by the Great Sundering, where clean water flowed and the air was breathable. It was a fool's hope to most, a mirage in the dust, but for Furiosa, it was the only thing that kept her moving, one weary step after another, across the skeletal remains of highways that once hummed with life. Her journey was marked by the bleached bones of those who hadn't made it, and the constant, chilling silence broken only by the crunch of her worn boots on rubble, or the distant, unsettling shriek of something unseen. As she navigated the treacherous, cratered landscape, the setting sun cast long, distorted shadows that seemed to writhe and mock her solitude, making every rustle of dry weeds sound like an approaching threat. Just as the last sliver of light vanished, plunging the ruins into an oppressive darkness, she spotted a faint, flickering glow in the distance, nestled deep within the skeletal remains of a collapsed skyscraper – a light that could signify either salvation or an even greater peril.\n",
      "\n",
      "AI's turn:\n",
      "Furiosa instinctively threw an arm across her eyes, the sudden, searing glare burning through her eyelids and leaving phantom streaks across her vision. This wasn't a shrieker, nor any of the other common horrors she'd learned to evade; this was something new, something that hunted not by sound, but by overwhelming light. Through the painful afterglow, she could make out a hulking silhouette detaching itself from the skeletal skyscraper, its form indistinct but its intent terrifyingly clear as it began to lumber towards her, the ground trembling slightly with each heavy step. Her heart hammered against her ribs, a frantic drumbeat against the desolate silence, urging her to move, to flee, but where could she go in this blinding darkness when her very sight was compromised?\n",
      "\n",
      "AI's turn:\n",
      "The searing glow from the approaching monstrosity filled the narrow confines of the derelict building, illuminating the crumbling plaster and shattered glass like some hellish stage. Dust motes danced wildly in the oppressive light, making the air shimmer and distort the hulking silhouette that now filled the doorway. It moved with a terrifying, methodical slowness, each heavy thud of its unseen feet vibrating through the floor and up Furiosa’s legs, a grim countdown to impact. Her knuckles were white where she gripped the rusted iron pipe, its cold, pitted surface a meager comfort against the adrenaline surging through her veins. This wasn't a fight she could win with speed or evasion; this was a desperate, primal stand in the suffocating glare, and as the creature's form finally became distinct—a massive, featureless bulk of pulsating light—she knew her last chance was now.\n",
      "\n",
      "AI's turn:\n",
      "The pipe, a cold extension of her desperate will, plunged into the blinding heart of the pulsating mass. There was no shriek of pain, no roar of anger, only a sickening squelch and a sudden, violent surge of light that blasted outwards, momentarily searing her vision completely white. The creature recoiled with a shuddering, internal tremor, its luminescence flickering wildly like a dying star as Furiosa tore herself free, the pipe still embedded, and bolted. Her boots scrabbled on loose rubble, each step a gamble in the disorienting afterglow that painted the ruins in ghostly negatives. Behind her, the ground began to tremble again, not with the creature's slow, methodical advance, but with a new, frantic urgency, the pulsating light now a furious, throbbing red, indicating it was far from incapacitated and now pursued her with a terrifying, enraged speed through the skeletal remains of the city.\n",
      "\n",
      "AI's turn:\n",
      "Furiosa sprinted through the labyrinthine ruins, her lungs burning with every ragged breath, the phantom image of the creature’s pulsating red glow seared into her retinas even when she glanced away. The trembling of the ground behind her intensified, a rhythmic pounding that vibrated up through the soles of her worn boots, telling her the monstrous light-beast was gaining. She risked a quick look over her shoulder; the entire street behind her was bathed in an ominous crimson, the hulking silhouette now a blur of enraged energy, its blinding light-beam sweeping erratically, incinerating patches of rubble and steel girders in its wake. Desperation lent her strength, propelling her over collapsed walls and through gaping holes where windows once stood, her only thought to put anything—any structure, any debris—between herself and the relentless, incandescent terror. Ahead, a narrow alleyway, barely wide enough for one person, offered a sliver of darkness amidst the pervasive glow, a potential escape route or a deadly trap.\n",
      "\n",
      "AI's turn:\n",
      "Furiosa stumbled out of the collapsing alley, gasping for air, her body screaming in protest as she collapsed against a teetering wall. The thunderous roar of the falling debris behind her slowly faded, replaced by the ringing in her ears and the frantic pounding of her own heart. She pressed the heels of her hands into her burning eyes, trying to clear the lingering phantom glow that still danced across her vision, painting the desolate landscape in shades of red and white. The immediate threat was gone, buried beneath tons of concrete and twisted rebar, but the encounter had left her profoundly shaken, her meager supplies scattered, and her already tattered nerves frayed to breaking point. For a long moment, she just knelt there, the dust settling around her, the silence of the ruins once again oppressive, reminding her that even one monster vanquished meant little in a world teeming with untold dangers, and that Elysium felt impossibly far away.\n",
      "\n",
      "AI's turn:\n",
      "The village stood as an anomaly in the desolation, its perimeter marked by a surprisingly intact, if ramshackle, wall of corrugated metal and salvaged timber, a stark contrast to the crumbled ruins she’d traversed for days. No dust motes danced in its contained air, and a strange, almost unsettling quiet hung over it, broken only by the distant, rhythmic clanging of what sounded like a blacksmith’s hammer. Two figures, clad in sturdy, patched-up fatigues that seemed almost too clean, emerged from the shadow of the gatehouse as she approached, their faces mostly obscured by wide-brimmed caps and dark goggles. They held crude but formidable-looking rifles, their stances alert and unwelcoming. One of them, taller and broader than the other, raised a hand, the gesture clear and definitive. \"State your name and purpose, wanderer,\" a gruff voice echoed, cutting through the unnatural calm, leaving Furiosa to weigh her words carefully.\n",
      "\n",
      "AI's turn:\n",
      "Furiosa’s mind raced, sifting through a lifetime of brutal lessons learned in a world where a wrong word could mean enslavement or death. Her initial instinct was to lie, to invent a safe, non-threatening persona, but the weariness in her bones and the honest desperation in her eyes betrayed any attempt at artifice. Besides, these guards, with their clean gear and watchful stances, seemed too sharp to be easily fooled. Taking a slow, deliberate breath, she let her hand fall away from the hilt of her scavenged blade, a small gesture of non-aggression. \"My name is Furiosa,\" she stated, her voice hoarse from disuse but steady. \"I seek water, shelter, and a reason to keep moving towards Elysium.\" The last word hung in the air, a risky gamble, as the two figures exchanged a quick, unreadable glance before the taller one lowered his rifle slightly, a subtle shift that could mean anything.\n",
      "\n",
      "AI's turn:\n",
      "The taller guard, whose name Furiosa instinctively knew would remain unspoken, exchanged another swift, unreadable glance with his companion. A tense moment stretched, thick with unspoken judgment, before he finally gave a curt, almost imperceptible nod. \"Come,\" he grunted, pushing open a heavy, creaking gate just wide enough for one person to pass through. His partner, rifle still held ready, kept a watchful eye on Furiosa as she stepped across the threshold, the world shifting abruptly from the dust-choked ruins to an enclosed space of surprising, almost disorienting order. The air inside felt distinctly cleaner, a faint scent of woodsmoke and something vaguely metallic replacing the acrid tang of decay. Small, makeshift dwellings of salvaged materials were clustered together, and the rhythmic clang of the blacksmith's hammer was now clearer, a steady beat of industry in the heart of the wasteland, but no other sounds of life, no voices, no children, reached her ears, leaving an unsettling quiet hanging in the air.\n",
      "\n",
      "AI's turn:\n",
      "The moment Furiosa stepped through the gate, the world shifted in a way that defied her every expectation of the wasteland. The air, though still carrying the faint scent of woodsmoke, was astonishingly clean, devoid of the perpetual dust that had coated her lungs for years. Sunlight, filtered through a translucent canopy stretched high above, bathed the interior in a soft, even glow, illuminating neat rows of salvaged hydroponic gardens where green shoots, impossibly vibrant, pushed through nutrient-rich soil. Small, well-maintained paths wound between the dwellings, and the rhythmic clang of the blacksmith's hammer was indeed the only persistent sound, a stark contrast to the distant shrieks and the constant hum of her own vigilance outside. Yet, the profound silence of human voices, the absence of children's laughter or casual conversation, was unnerving, creating an almost sterile atmosphere that, despite its promise of safety, felt deeply unsettling to her battle-hardened senses.\n",
      "\n",
      "AI's turn:\n",
      "As Furiosa walked deeper into the settlement, the initial unease began to subtly shift, transforming into a profound sense of awe. The silence wasn't empty; it was a purposeful hush, punctuated only by the rhythmic clang of the blacksmith and the gentle, almost imperceptible hum of unseen machinery that maintained the pristine air. People moved with a quiet efficiency she hadn't witnessed since before the Sundering, their faces etched not with desperation, but with a serene, almost ancient resolve, their eyes holding a distant, knowing light as they tended to impossibly vibrant crops. Then, in the heart of the settlement, beneath a vast, shimmering canopy that filtered the sunlight into a soft, perpetual twilight, she saw it: a crystalline spring, its water bubbling from the earth, clear and pure, flowing into basins that overflowed with life. A lone figure, ancient and stoic, emerged from a nearby dwelling, their gaze meeting Furiosa's with an undeniable recognition. \"You have found it, wanderer,\" the elder's voice was a soft murmur, yet it resonated with the weight of ages. \"You have found Elysium.\" A breath she hadn't realized she was holding escaped her, and for the first time in a lifetime, the gnawing question of survival was replaced by the quiet, overwhelming certainty that she had finally, truly, arrived.\n",
      "\n",
      "Thanks for playing!\n"
     ]
    }
   ],
   "source": [
    "from dotenv import load_dotenv\n",
    "import os\n",
    "\n",
    "load_dotenv()\n",
    "\n",
    "# Initial state\n",
    "state = {\n",
    "    \"user_input\": \"\",\n",
    "    \"story_so_far\": \"\",\n",
    "    \"answer\": \"\"\n",
    "}\n",
    "\n",
    "print(\"\\n--- AI Story Generator ---\")\n",
    "print(\"Type 'quit' to end the game.\\n\")\n",
    "\n",
    "# First turn (opening idea)\n",
    "user_input = input(\"Enter your opening idea: \")\n",
    "state[\"user_input\"] = user_input\n",
    "state = graph.invoke(state)\n",
    "\n",
    "# Print AI's first story so far\n",
    "print(f\"\\nAI's opening:\\n{state['story_so_far']}\")\n",
    "\n",
    "# Game loop\n",
    "while True:\n",
    "    user_input = input(\"\\nYour turn: \")\n",
    "\n",
    "    if user_input.lower().strip() == \"quit\":\n",
    "        print(\"\\nThanks for playing!\")\n",
    "        break\n",
    "\n",
    "    # Update state with user input\n",
    "    state[\"user_input\"] = user_input\n",
    "\n",
    "    # Run through the graph\n",
    "    state = graph.invoke(state)\n",
    "\n",
    "    # Show AI's turn\n",
    "    print(f\"\\nAI's turn:\\n{state['answer']}\")\n"
   ]
  },
  {
   "cell_type": "code",
   "execution_count": null,
   "id": "11f6a481",
   "metadata": {},
   "outputs": [],
   "source": []
  }
 ],
 "metadata": {
  "kernelspec": {
   "display_name": "sg (3.10.0)",
   "language": "python",
   "name": "python3"
  },
  "language_info": {
   "codemirror_mode": {
    "name": "ipython",
    "version": 3
   },
   "file_extension": ".py",
   "mimetype": "text/x-python",
   "name": "python",
   "nbconvert_exporter": "python",
   "pygments_lexer": "ipython3",
   "version": "3.10.0"
  }
 },
 "nbformat": 4,
 "nbformat_minor": 5
}
